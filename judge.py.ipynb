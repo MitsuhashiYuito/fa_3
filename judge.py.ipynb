{
 "cells": [
  {
   "cell_type": "code",
   "execution_count": 32,
   "metadata": {},
   "outputs": [],
   "source": [
    "import numpy as np\n",
    "from keras.models import Sequential\n",
    "from keras.layers import Dense, Dropout, Flatten\n",
    "from keras.layers import Conv2D, MaxPooling2D\n",
    "from keras.models import model_from_yaml\n",
    "from skimage.feature import canny\n",
    "import matplotlib.pyplot as plt\n",
    "import sys\n",
    "import os\n",
    "import cv2\n",
    "\n",
    "RUN_ID = \"5\"\n",
    "check = \"test\"\n",
    "\n",
    "def load_images(dirname):\n",
    "    imlist =[]\n",
    "    for fname in os.listdir(dirname):\n",
    "        im = np.array(cv2.imread(dirname+fname))\n",
    "        im_gray = cv2.cvtColor(im, cv2.COLOR_BGR2GRAY)\n",
    "#         im_filter = canny(im_gray)\n",
    "#         im_filter = np.array(im_filter, dtype=np.uint8)\n",
    "#         M = cv2.moments(im_filter)\n",
    "#         center_x = int(M['m10']/M['m00'])\n",
    "#         center_y = int(M['m01']/M['m00'])\n",
    "#         size_y = 400\n",
    "#         im = im_gray[int(center_y - size_y/2) : int(center_y + size_y/2), 500:-200]\n",
    "        im = im[10:-10, 90:-90]\n",
    "#         im = im_gray\n",
    "        im = (im - np.average(im))/np.std(im)\n",
    "        im_canny = np.resize(canny(im_gray), (im.shape[0], im.shape[1], 1))\n",
    "#         im = np.resize(im, (im.shape[0], im.shape[1], 1))\n",
    "        im = np.concatenate((im, im_canny), axis=2)\n",
    "        imlist.append(im)\n",
    "\n",
    "    imlist = np.array(imlist)\n",
    "    return imlist\n",
    "\n"
   ]
  },
  {
   "cell_type": "code",
   "execution_count": 33,
   "metadata": {},
   "outputs": [],
   "source": [
    "\n",
    "model = model_from_yaml(open(\"model/\" + RUN_ID + \".yaml\").read())\n",
    "model.load_weights( \"model/\" + RUN_ID + \"_weight.h5\")"
   ]
  },
  {
   "cell_type": "code",
   "execution_count": 38,
   "metadata": {},
   "outputs": [
    {
     "name": "stdout",
     "output_type": "stream",
     "text": [
      "1/1 [==============================] - 0s 47ms/step\n",
      "OK!アーム動かしません!\n"
     ]
    }
   ],
   "source": [
    "# if check == \"test\":\n",
    "    \n",
    "imlist_test = load_images(\"data/test/\")\n",
    "x_test = np.concatenate([imlist_test],axis=0)\n",
    "#     ０はOK、１はNG\n",
    "y_test = np.array([0])\n",
    "\n",
    "    #OK:0,NG:1を返す\n",
    "y_pred = np.round(model.predict(x_test, batch_size = 48, verbose=1))\n",
    "y_pred = y_pred.flatten()\n",
    "#     correct = (y_pred == y_test)\n",
    "#     print(y_pred[0])\n",
    "#     print('Samples = %d'%len(y_test))\n",
    "#     print('Accuracy = %.3f'%np.mean(correct))\n",
    "#     print('Incorrect = %d'%np.sum(~correct))\n",
    "\n",
    "if y_pred[0] > 1:\n",
    "        print('NG!アーム動かします！')\n",
    "if y_pred[0] < 1:\n",
    "        print('OK!アーム動かしません!')\n",
    "    #make error image\n",
    "#     x_pred_error = x_test[y_pred == y_test]\n",
    "#     y_pred_error = y_test[y_pred == y_test]\n",
    "\n",
    "#     !を取り除くとコレクトの値を持ってくる\n",
    "#     names = [\"OK\",\"NG\"]\n",
    "#     for i in range(x_pred_error.shape[0]):\n",
    "#         im = x_pred_error[i, :, :, 0]\n",
    "#         fig = plt.figure(figsize=(8,3))\n",
    "#         plt.imshow(im, cmap=\"gray\")\n",
    "#         plt.title(\"truth={}\".format(names[y_pred_error[i]]))\n",
    "#         plt.axis(\"off\")\n",
    "#         fig.savefig(\"data/predict_error_case/\"+str(i)+\".jpg\")\n"
   ]
  },
  {
   "cell_type": "code",
   "execution_count": null,
   "metadata": {},
   "outputs": [],
   "source": []
  }
 ],
 "metadata": {
  "kernelspec": {
   "display_name": "Python 3",
   "language": "python",
   "name": "python3"
  },
  "language_info": {
   "codemirror_mode": {
    "name": "ipython",
    "version": 3
   },
   "file_extension": ".py",
   "mimetype": "text/x-python",
   "name": "python",
   "nbconvert_exporter": "python",
   "pygments_lexer": "ipython3",
   "version": "3.6.0"
  }
 },
 "nbformat": 4,
 "nbformat_minor": 2
}
