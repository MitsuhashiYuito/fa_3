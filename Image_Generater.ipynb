{
 "cells": [
  {
   "cell_type": "markdown",
   "metadata": {},
   "source": [
    "参考https://qiita.com/haru1977/items/17833e508fe07c004119"
   ]
  },
  {
   "cell_type": "code",
   "execution_count": 4,
   "metadata": {
    "scrolled": true
   },
   "outputs": [],
   "source": [
    "import os\n",
    "import cv2\n",
    "from skimage.filters import sobel_h, sobel_v, sobel\n",
    "from skimage.feature import canny\n",
    "import numpy as np\n",
    "import sys\n",
    "\n",
    "RUN_ID = 5"
   ]
  },
  {
   "cell_type": "code",
   "execution_count": 5,
   "metadata": {},
   "outputs": [],
   "source": [
    "def load_images(dirname, gray = False, normalization = True, flip_augment = True, chanel_extension = False, crop = True, detect = True):\n",
    "    imlist =[]\n",
    "    for filename in os.listdir(dirname):\n",
    "        im = np.array(cv2.imread(dirname+filename))\n",
    "        im_gray = cv2.cvtColor(im, cv2.COLOR_BGR2GRAY)\n",
    "        \n",
    "        if detect is True:\n",
    "#             size_y = 400\n",
    "            size_y=300\n",
    "#             print(size_y)\n",
    "            im_filter = canny(im_gray)\n",
    "            im_filter = np.array(im_filter, dtype=np.uint8)\n",
    "            M = cv2.moments(im_filter)\n",
    "            center_x = int(M['m10']/M['m00'])\n",
    "            center_y = int(M['m01']/M['m00'])\n",
    "#             im = im[int(center_y - size_y/2) : int(center_y + size_y/2), 500:-200]\n",
    "            im = im[int(center_y - size_y/2) : int(center_y + size_y/2), 100:-50]\n",
    "#             im_gray = im_gray[int(center_y - size_y/2) : int(center_y + size_y/2), 500:-200]\n",
    "            im_gray = im_gray[int(center_y - size_y/2) : int(center_y + size_y/2), 200:-50]\n",
    "        if crop is True:\n",
    "            im = im[10:-10, 90:-90]\n",
    "            im_gray = im_gray[10:-10, 90:-90]\n",
    "\n",
    "        if gray is True:\n",
    "            im = im_gray\n",
    "\n",
    "        if normalization is True:\n",
    "            im = (im - np.average(im))/np.std(im)\n",
    "\n",
    "        if chanel_extension is \"canny\":\n",
    "            if gray is True:\n",
    "                im_canny = np.resize(canny(im), (im.shape[0], im.shape[1], 1))\n",
    "                im = np.resize(im, (im.shape[0], im.shape[1], 1))\n",
    "\n",
    "            if gray is False:\n",
    "                im_canny = np.resize(canny(im_gray), (im.shape[0], im.shape[1], 1))\n",
    "\n",
    "            im = np.concatenate((im, im_canny), axis=2)\n",
    "\n",
    "        if chanel_extension is \"sobel_vh\":\n",
    "            if gray is True:\n",
    "                im_sobel_h = np.resize(sobel_h(im), (im.shape[0], im.shape[1], 1))\n",
    "                im_sobel_v = np.resize(sobel_v(im), (im.shape[0], im.shape[1], 1))\n",
    "                im = np.resize(im, (im.shape[0], im.shape[1], 1))\n",
    "\n",
    "            if gray is False:\n",
    "                im_sobel_h = np.resize(sobel_h(im_gray), (im.shape[0], im.shape[1], 1))\n",
    "                im_sobel_v = np.resize(sobel_v(im_gray), (im.shape[0], im.shape[1], 1))\n",
    "\n",
    "            im = np.concatenate((im, im_sobel_h, im_sobel_v), axis=2)\n",
    "\n",
    "        if chanel_extension is \"sobel\":\n",
    "            if gray is True:\n",
    "                im_sobel = np.resize(sobel(im), (im.shape[0], im.shape[1], 1))\n",
    "                im = np.resize(im, (im.shape[0], im.shape[1], 1))\n",
    "\n",
    "            if gray is False:\n",
    "                im_sobel = np.resize(sobel(im_gray), (im.shape[0], im.shape[1], 1))\n",
    "\n",
    "            im = np.concatenate((im, im_sobel), axis=2)\n",
    "\n",
    "        if flip_augment is True:\n",
    "            imlist.append(np.fliplr(im))\n",
    "            imlist.append(np.flipud(im))\n",
    "            imlist.append(np.fliplr(np.flipud(im)))\n",
    "\n",
    "        imlist.append(im)\n",
    "\n",
    "    imlist = np.array(imlist)\n",
    "#     print(imlist.shape)\n",
    "    return imlist"
   ]
  },
  {
   "cell_type": "code",
   "execution_count": 6,
   "metadata": {},
   "outputs": [
    {
     "name": "stdout",
     "output_type": "stream",
     "text": [
      "OKの画像数：116 NGの画像数192 合計308\n",
      "x_train:(245, 460, 460, 4), x_valid:(63, 460, 460, 4), x_test:(63, 460, 460, 4)\n",
      "y_train:(245,), y_valid:(63,), y_test:(63,)\n"
     ]
    }
   ],
   "source": [
    "if __name__ == \"__main__\":\n",
    "    imlist_ok = load_images(\"data/sd_ok/\", gray = False, normalization = True, flip_augment = True, chanel_extension = \"canny\", crop = True, detect = False)\n",
    "    imlist_ng = load_images(\"data/sd_ng/\", gray = False, normalization = True, flip_augment = True, chanel_extension = \"canny\", crop = True, detect = False)\n",
    "\n",
    "#     print(imlist_ok.shape, imlist_ng_train.shape, imlist_ng_valid.shape, imlist_ok_test.shape, imlist_ng_test.shape)\n",
    "    print(\"OKの画像数：\"+str(imlist_ok.shape[0]), \"NGの画像数\"+str(imlist_ng.shape[0]), \"合計\"+str(imlist_ok.shape[0]+imlist_ng.shape[0]))\n",
    "    \n",
    "#     :はスライス\n",
    "    x_train = np.concatenate([imlist_ok[:int(imlist_ok.shape[0]*0.8)], imlist_ng[:int(imlist_ng.shape[0]*0.8)]], axis=0)    \n",
    "    \n",
    "    x_valid = np.concatenate( [imlist_ok[int(imlist_ok.shape[0]*0.8):],imlist_ng[int(imlist_ng.shape[0]*0.8):]], axis=0)\n",
    "#後ろから読み込んではいけない。trainとvalidで読み込む画像が重なる可能性があるため\n",
    "    x_test = np.concatenate( [imlist_ok[int(imlist_ok.shape[0]*0.8):],imlist_ng[int(imlist_ng.shape[0]*0.8):]], axis=0)\n",
    "    \n",
    "    y_train = np.array([0]*int(imlist_ok[:int(imlist_ok.shape[0]*0.8)].shape[0]) + [1]*int(imlist_ng[:int(imlist_ng.shape[0]*0.8)].shape[0]))\n",
    "    \n",
    "    y_valid = np.array([0]*int(imlist_ok[int(imlist_ok.shape[0]*0.8):].shape[0]) + [1]*int(imlist_ng[int(imlist_ng.shape[0]*0.8):].shape[0]))\n",
    "    \n",
    "    y_test = np.array([0]*int(imlist_ok[int(imlist_ok.shape[0]*0.8):].shape[0]) + [1]*int(imlist_ng[int(imlist_ng.shape[0]*0.8):].shape[0]))\n",
    "    \n",
    "    print(\"x_train:{}, x_valid:{}, x_test:{}\".format(x_train.shape, x_valid.shape, x_test.shape))\n",
    "    print(\"y_train:{}, y_valid:{}, y_test:{}\".format(y_train.shape, y_valid.shape, y_test.shape))\n",
    "#     np.save(\"npy/x_train{}\".format(sys.argv[1]), x_train)\n",
    "    np.save(\"npy/x_train{}\".format(RUN_ID), x_train)\n",
    "    np.save(\"npy/x_valid{}\".format(RUN_ID), x_valid)\n",
    "    np.save(\"npy/x_test{}\".format(RUN_ID), x_test)\n",
    "    np.save(\"npy/y_train{}\".format(RUN_ID), y_train)\n",
    "    np.save(\"npy/y_valid{}\".format(RUN_ID), y_valid)\n",
    "    np.save(\"npy/y_test{}\".format(RUN_ID), y_test)\n"
   ]
  },
  {
   "cell_type": "code",
   "execution_count": null,
   "metadata": {},
   "outputs": [],
   "source": []
  }
 ],
 "metadata": {
  "kernelspec": {
   "display_name": "Python 3",
   "language": "python",
   "name": "python3"
  },
  "language_info": {
   "codemirror_mode": {
    "name": "ipython",
    "version": 3
   },
   "file_extension": ".py",
   "mimetype": "text/x-python",
   "name": "python",
   "nbconvert_exporter": "python",
   "pygments_lexer": "ipython3",
   "version": "3.6.0"
  }
 },
 "nbformat": 4,
 "nbformat_minor": 2
}
